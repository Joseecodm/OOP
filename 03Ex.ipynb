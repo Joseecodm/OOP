{
 "cells": [
  {
   "cell_type": "markdown",
   "metadata": {},
   "source": [
    "# Ejercicio 3 de OOP"
   ]
  },
  {
   "cell_type": "markdown",
   "metadata": {},
   "source": [
    "<img src= \"Diagramas_clases/03_herencia.png\" alt=\"Ex 1\" width=\"200\">"
   ]
  },
  {
   "cell_type": "code",
   "execution_count": 1,
   "metadata": {},
   "outputs": [],
   "source": [
    "class Employee:\n",
    "    id = 1\n",
    "\n",
    "    def __init__(self):\n",
    "        self.id =  Employee.id\n",
    "        Employee.id += 1\n",
    "               \n",
    "    def say_id(self):\n",
    "        print(f'Mi id es {self.id}')\n",
    "\n",
    "class Admin(Employee):\n",
    "    def say_id(self):\n",
    "        super().say_id()\n",
    "        print(f\"Soy un administrador\")\n",
    "\n",
    "class Manager(Admin):\n",
    "    def say_id(self):\n",
    "        # super().say_id()\n",
    "        print(f\"Estoy a cargo\")"
   ]
  },
  {
   "cell_type": "code",
   "execution_count": 2,
   "metadata": {},
   "outputs": [
    {
     "name": "stdout",
     "output_type": "stream",
     "text": [
      "Mi id es 1\n",
      "Mi id es 2\n",
      "Soy un administrador\n",
      "Estoy a cargo\n"
     ]
    }
   ],
   "source": [
    "Juan = Employee()\n",
    "Juan.say_id()\n",
    "\n",
    "Pedro = Admin()\n",
    "Pedro.say_id()\n",
    "\n",
    "Martin = Manager()\n",
    "Martin.say_id()\n"
   ]
  }
 ],
 "metadata": {
  "kernelspec": {
   "display_name": "Python 3",
   "language": "python",
   "name": "python3"
  },
  "language_info": {
   "codemirror_mode": {
    "name": "ipython",
    "version": 3
   },
   "file_extension": ".py",
   "mimetype": "text/x-python",
   "name": "python",
   "nbconvert_exporter": "python",
   "pygments_lexer": "ipython3",
   "version": "3.12.5"
  }
 },
 "nbformat": 4,
 "nbformat_minor": 2
}
