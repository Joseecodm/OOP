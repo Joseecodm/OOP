{
 "cells": [
  {
   "cell_type": "markdown",
   "metadata": {},
   "source": [
    "# Clase persona.\n",
    "Atributos:\n",
    "- Nombres : str\n",
    "- Apellido materno : str\n",
    "- Apellido paterno : str\n",
    "\n",
    "Metodos:\n",
    "- Say_Full_Name {\n",
    "Imprime el nombre completo de la persona en el formato:\n",
    "nombres apellido_paterno apellido_materno'.\n",
    "}"
   ]
  },
  {
   "cell_type": "code",
   "execution_count": 10,
   "metadata": {},
   "outputs": [],
   "source": [
    "class Persona:\n",
    "    def __init__(self, nombres, apellido_materno, apellido_paterno):\n",
    "        self.nombres = nombres \n",
    "        self.apellido_materno = apellido_materno\n",
    "        self.apellido_paterno = apellido_paterno\n",
    "\n",
    "    def __str__(self):\n",
    "        return f'{self.nombres.title() } {self.apellido_paterno.title() } {self.apellido_materno.title()}'"
   ]
  },
  {
   "cell_type": "code",
   "execution_count": 11,
   "metadata": {},
   "outputs": [
    {
     "name": "stdout",
     "output_type": "stream",
     "text": [
      "Cuactemoc Tizoc Garcia Hernadez\n"
     ]
    }
   ],
   "source": [
    "# Test \n",
    "cuau = Persona(\"cuactemoc TizOc\", \"HernadEz\", \"gARCIA\")\n",
    "print(cuau) "
   ]
  }
 ],
 "metadata": {
  "kernelspec": {
   "display_name": "Python 3",
   "language": "python",
   "name": "python3"
  },
  "language_info": {
   "codemirror_mode": {
    "name": "ipython",
    "version": 3
   },
   "file_extension": ".py",
   "mimetype": "text/x-python",
   "name": "python",
   "nbconvert_exporter": "python",
   "pygments_lexer": "ipython3",
   "version": "3.12.5"
  }
 },
 "nbformat": 4,
 "nbformat_minor": 2
}
