{
 "cells": [
  {
   "cell_type": "markdown",
   "metadata": {},
   "source": [
    "# Clase Point 2D\n",
    "Atributos:\n",
    "- x : float \n",
    "- y : float\n",
    "\n",
    "Metodos: \n",
    "\n",
    "- Calculate_distance {\n",
    "    \n",
    "Recibir dos instancias de la clase y calcula la distancia entre los dos puntos:\n",
    "\n",
    "$$ d = \\sqrt{(x_2 - x_1)^2 + (y_2 - y_1)^2}$$\n",
    "\n",
    "return f'La distancia entre los puntos {point1.x, point1.y} y {point2.x, point2.y} es de: {distance}'\n",
    "\n",
    "}"
   ]
  },
  {
   "cell_type": "code",
   "execution_count": 10,
   "metadata": {},
   "outputs": [],
   "source": [
    "import math\n",
    "\n",
    "class Point2D:\n",
    "    def __init__(self, x, y):\n",
    "        self.x = x\n",
    "        self.y = y\n",
    "\n",
    "    @staticmethod\n",
    "    def calculate_distance(point1, point2):\n",
    "        distance = math.sqrt((point2.x - point1.x) ** 2 + (point2.y - point1.y) ** 2)\n",
    "        return f'La distancia entre los puntos {point1.x, point1.y} y {point2.x, point2.y} es de: {distance}'"
   ]
  },
  {
   "cell_type": "code",
   "execution_count": 7,
   "metadata": {},
   "outputs": [
    {
     "name": "stdout",
     "output_type": "stream",
     "text": [
      "La distancia entre los puntos (3, 4) y (9, 5) es de: 6.082762530298219\n"
     ]
    }
   ],
   "source": [
    "# test 1\n",
    "point1 = Point2D(3, 4)\n",
    "point2 = Point2D(9, 5)\n",
    "print(Point2D.calculate_distance(point1, point2))"
   ]
  },
  {
   "cell_type": "code",
   "execution_count": 12,
   "metadata": {},
   "outputs": [
    {
     "name": "stdout",
     "output_type": "stream",
     "text": [
      "La distancia entre los puntos (-3, 4) y (9, -5) es de: 15.0\n"
     ]
    }
   ],
   "source": [
    "# test 2\n",
    "point1 = Point2D(-3, 4)\n",
    "point2 = Point2D(9, -5)\n",
    "print(Point2D.calculate_distance(point1, point2))"
   ]
  }
 ],
 "metadata": {
  "kernelspec": {
   "display_name": "Python 3",
   "language": "python",
   "name": "python3"
  },
  "language_info": {
   "codemirror_mode": {
    "name": "ipython",
    "version": 3
   },
   "file_extension": ".py",
   "mimetype": "text/x-python",
   "name": "python",
   "nbconvert_exporter": "python",
   "pygments_lexer": "ipython3",
   "version": "3.12.5"
  }
 },
 "nbformat": 4,
 "nbformat_minor": 2
}
