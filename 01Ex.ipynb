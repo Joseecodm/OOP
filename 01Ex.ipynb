{
 "cells": [
  {
   "cell_type": "markdown",
   "metadata": {},
   "source": [
    "# Ejercicio 1 de OOP"
   ]
  },
  {
   "cell_type": "markdown",
   "metadata": {},
   "source": [
    "<img src= \"Diagramas_clases/01_create_class.png\" alt=\"Ex 1\" width=\"500\">"
   ]
  },
  {
   "cell_type": "code",
   "execution_count": 1,
   "metadata": {},
   "outputs": [],
   "source": [
    "class Employee:\n",
    "    id = 1\n",
    "\n",
    "    def __init__(self, name):\n",
    "        self.id =  Employee.id\n",
    "        self.name = name\n",
    "        Employee.id += 1\n",
    "               \n",
    "    def say_id(self):\n",
    "        print(f'My name is {self.name} y mi id es {self.id}')\n",
    "        "
   ]
  },
  {
   "cell_type": "code",
   "execution_count": 2,
   "metadata": {},
   "outputs": [
    {
     "name": "stdout",
     "output_type": "stream",
     "text": [
      "My name is Asael y mi id es 1\n",
      "My name is Citlaly y mi id es 2\n"
     ]
    }
   ],
   "source": [
    "Asael_Luces = Employee(\"Asael\")\n",
    "Citlaly_Traidora = Employee(\"Citlaly\")\n",
    "\n",
    "Asael_Luces.say_id()\n",
    "Citlaly_Traidora.say_id()"
   ]
  }
 ],
 "metadata": {
  "kernelspec": {
   "display_name": "Python 3",
   "language": "python",
   "name": "python3"
  },
  "language_info": {
   "codemirror_mode": {
    "name": "ipython",
    "version": 3
   },
   "file_extension": ".py",
   "mimetype": "text/x-python",
   "name": "python",
   "nbconvert_exporter": "python",
   "pygments_lexer": "ipython3",
   "version": "3.12.5"
  }
 },
 "nbformat": 4,
 "nbformat_minor": 2
}
