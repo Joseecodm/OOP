{
 "cells": [
  {
   "cell_type": "markdown",
   "metadata": {},
   "source": [
    "# Ejercicio 5 de OOP"
   ]
  },
  {
   "cell_type": "markdown",
   "metadata": {},
   "source": [
    "<img src= \"Diagramas_clases/05_herencia_multiple.png\" alt=\"Ex 1\" width=\"300\">"
   ]
  },
  {
   "cell_type": "markdown",
   "metadata": {},
   "source": [
    "## Clase Animal: \n",
    "- **str Name**: Atributo de instancia. Nombre del animal-\n",
    "- **void eat()**: Imprime el texto 'Yummy yummy! Estoy comiendo...'.\n",
    "- **void make_noisy()**: Imprime '{self.name} hace grr.'\n"
   ]
  },
  {
   "cell_type": "code",
   "execution_count": 86,
   "metadata": {},
   "outputs": [],
   "source": [
    "class Animal:\n",
    "    def __init__(self, name):\n",
    "        self.name = name\n",
    "\n",
    "    def eat(self):\n",
    "        print('Yummy yummy! Estoy comiendo...')\n",
    "    \n",
    "    def make_noisy(self):\n",
    "        print(f'{self.name} hace grr.')\n",
    "\n",
    "\n"
   ]
  },
  {
   "cell_type": "code",
   "execution_count": 87,
   "metadata": {},
   "outputs": [
    {
     "name": "stdout",
     "output_type": "stream",
     "text": [
      "Yummy yummy! Estoy comiendo...\n",
      "Negro hace grr.\n"
     ]
    }
   ],
   "source": [
    "Negro = Animal(\"Negro\")\n",
    "Negro.eat()\n",
    "Negro.make_noisy()"
   ]
  },
  {
   "cell_type": "markdown",
   "metadata": {},
   "source": [
    "\n",
    "## Clase Cat\n",
    "- **void make_noisy()¨**: Imprime '{self.name} Rrrrr'.\n",
    "- **void meow()**: Imprime 'Soy un gato y hago meow'.\n"
   ]
  },
  {
   "cell_type": "code",
   "execution_count": 88,
   "metadata": {},
   "outputs": [],
   "source": [
    "class Cat(Animal):\n",
    "    def make_noisy(self):\n",
    "        print(f'{self.name} hace Rrrrr')\n",
    "\n",
    "    def meow(self):\n",
    "        print('Soy un gato y hago meow.')   \n",
    "   "
   ]
  },
  {
   "cell_type": "code",
   "execution_count": 89,
   "metadata": {},
   "outputs": [
    {
     "name": "stdout",
     "output_type": "stream",
     "text": [
      "Soy un gato y hago meow.\n",
      "Mandarino hace Rrrrr\n",
      "Yummy yummy! Estoy comiendo...\n"
     ]
    }
   ],
   "source": [
    "Mandarino = Cat('Mandarino')\n",
    "Mandarino.meow()\n",
    "Mandarino.make_noisy()\n",
    "Mandarino.eat()"
   ]
  },
  {
   "cell_type": "markdown",
   "metadata": {},
   "source": [
    "\n",
    "## Clase Dog\n",
    "- **void action()¨**: Imprime '{self.name} mueve la cola'.\n",
    "- **void bark()**: Imprime 'Soy un Perro y hago woof woof'.\n"
   ]
  },
  {
   "cell_type": "code",
   "execution_count": 90,
   "metadata": {},
   "outputs": [],
   "source": [
    "class Dog(Animal):\n",
    "    def action(self):\n",
    "        print(f'{self.name} mueve la cola')\n",
    "    \n",
    "    def bark(self):\n",
    "        print(f'Soy un perro y hago woof woof.')\n",
    "    \n",
    " "
   ]
  },
  {
   "cell_type": "code",
   "execution_count": 91,
   "metadata": {},
   "outputs": [
    {
     "name": "stdout",
     "output_type": "stream",
     "text": [
      "Firulais mueve la cola\n",
      "Soy un perro y hago woof woof.\n",
      "Yummy yummy! Estoy comiendo...\n",
      "Firulais hace grr.\n"
     ]
    }
   ],
   "source": [
    "Firulais = Dog(\"Firulais\")\n",
    "Firulais.action()\n",
    "Firulais.bark()\n",
    "Firulais.eat()\n",
    "Firulais.make_noisy()"
   ]
  },
  {
   "cell_type": "markdown",
   "metadata": {},
   "source": [
    "\n",
    "## Clase Wolf\n",
    "- **void action()¨**: Imprime '{self.name} Rrrrr'.\n"
   ]
  },
  {
   "cell_type": "code",
   "execution_count": 92,
   "metadata": {},
   "outputs": [],
   "source": [
    "class Wolf(Animal):\n",
    "    def action(self):\n",
    "        print(f'{self.name} muerde y duele OUCH!')\n",
    "\n"
   ]
  },
  {
   "cell_type": "code",
   "execution_count": 93,
   "metadata": {},
   "outputs": [
    {
     "name": "stdout",
     "output_type": "stream",
     "text": [
      "Sparco muerde y duele OUCH!\n",
      "Yummy yummy! Estoy comiendo...\n",
      "Sparco hace grr.\n"
     ]
    }
   ],
   "source": [
    "Sparco = Wolf(\"Sparco\")\n",
    "Sparco.action()\n",
    "Sparco.eat()\n",
    "Sparco.make_noisy()"
   ]
  },
  {
   "cell_type": "markdown",
   "metadata": {},
   "source": [
    "## Clase Hybrid\n",
    "- **void action()¨**: Imprime:\n",
    "    - '{self.name} muerde y duele OUCH!'.\n",
    "    - '{self.name} mueve la cola'."
   ]
  },
  {
   "cell_type": "code",
   "execution_count": 94,
   "metadata": {},
   "outputs": [],
   "source": [
    "class Hybrid(Wolf, Dog):\n",
    "\n",
    "    def action(self):\n",
    "        super().action()\n",
    "        Dog.action(self)"
   ]
  },
  {
   "cell_type": "code",
   "execution_count": 95,
   "metadata": {},
   "outputs": [
    {
     "name": "stdout",
     "output_type": "stream",
     "text": [
      "Princesa muerde y duele OUCH!\n",
      "Princesa mueve la cola\n",
      "Soy un perro y hago woof woof.\n",
      "Yummy yummy! Estoy comiendo...\n",
      "Princesa hace grr.\n"
     ]
    }
   ],
   "source": [
    "Princesa = Hybrid(\"Princesa\")\n",
    "Princesa.action()\n",
    "Princesa.bark()\n",
    "Princesa.eat()\n",
    "Princesa.make_noisy()"
   ]
  }
 ],
 "metadata": {
  "kernelspec": {
   "display_name": "Python 3",
   "language": "python",
   "name": "python3"
  },
  "language_info": {
   "codemirror_mode": {
    "name": "ipython",
    "version": 3
   },
   "file_extension": ".py",
   "mimetype": "text/x-python",
   "name": "python",
   "nbconvert_exporter": "python",
   "pygments_lexer": "ipython3",
   "version": "3.12.5"
  }
 },
 "nbformat": 4,
 "nbformat_minor": 2
}
