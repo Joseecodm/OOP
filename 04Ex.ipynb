{
 "cells": [
  {
   "cell_type": "markdown",
   "metadata": {},
   "source": [
    "# Ejercicio 4 de OOP"
   ]
  },
  {
   "cell_type": "markdown",
   "metadata": {},
   "source": [
    "<img src= \"Diagramas_clases/04_overrinding.png\" alt=\"Ex 1\" width=\"300\">"
   ]
  },
  {
   "cell_type": "code",
   "execution_count": 1,
   "metadata": {},
   "outputs": [],
   "source": [
    "class Animal:\n",
    "    def __init__(self, name):\n",
    "        self.name = name\n",
    "    \n",
    "    def make_noise(self):\n",
    "        print(f\"{self.name} hago grr\")\n",
    "\n",
    "    def eat(self):\n",
    "        print(f\"{self.name} yummi yummi estoy comiendo\")\n",
    "\n",
    "class Cat(Animal):\n",
    "    def meow(self):\n",
    "        print(f\"Soy un gato y hago rawrr\")\n",
    "\n",
    "    def make_noise(self):\n",
    "        print(f\"Soy {self.name} hago miau\")\n",
    "\n",
    "class Dog(Animal):\n",
    "    def bark(self):\n",
    "        print(f\"Soy un perro y hago woof woof\")"
   ]
  },
  {
   "cell_type": "code",
   "execution_count": 2,
   "metadata": {},
   "outputs": [
    {
     "name": "stdout",
     "output_type": "stream",
     "text": [
      "Firulais hago grr\n",
      "Soy un perro y hago woof woof\n",
      "Firulais yummi yummi estoy comiendo\n",
      "**************************************************\n",
      "Soy un gato y hago rawrr\n",
      "Felix yummi yummi estoy comiendo\n",
      "Soy Felix hago miau\n"
     ]
    }
   ],
   "source": [
    "Firulais = Dog(\"Firulais\")\n",
    "Firulais.make_noise()\n",
    "Firulais.bark()\n",
    "Firulais.eat()\n",
    "print(\"*\" * 50)\n",
    "\n",
    "Felix = Cat(\"Felix\")\n",
    "Felix.meow()\n",
    "Felix.eat()\n",
    "Felix.make_noise()"
   ]
  }
 ],
 "metadata": {
  "kernelspec": {
   "display_name": "Python 3",
   "language": "python",
   "name": "python3"
  },
  "language_info": {
   "codemirror_mode": {
    "name": "ipython",
    "version": 3
   },
   "file_extension": ".py",
   "mimetype": "text/x-python",
   "name": "python",
   "nbconvert_exporter": "python",
   "pygments_lexer": "ipython3",
   "version": "3.12.5"
  }
 },
 "nbformat": 4,
 "nbformat_minor": 2
}
