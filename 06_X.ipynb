{
 "cells": [
  {
   "cell_type": "markdown",
   "metadata": {},
   "source": [
    "# Ejercicio 6 de OOP"
   ]
  },
  {
   "cell_type": "markdown",
   "metadata": {},
   "source": [
    "<img src=\"Diagramas_clases/06_x.jpg\" alt=\"06\" width=\"300\">"
   ]
  },
  {
   "cell_type": "markdown",
   "metadata": {},
   "source": [
    "# Clase Employee:\n",
    "- **int id**: Atributo de instancia. Identifica de manera unica a acda instancia de Employee\n",
    "- **int new_id**: Atributo de clase. Identificador unico.\n",
    "- **void say_id**: Imprime el 'id' de la instancia\n"
   ]
  },
  {
   "cell_type": "code",
   "execution_count": 161,
   "metadata": {},
   "outputs": [],
   "source": [
    "class Employee:\n",
    "    id = 1\n",
    "\n",
    "    def __init__(self):\n",
    "        self.id =  Employee.id\n",
    "        Employee.id += 1\n",
    "               \n",
    "    def say_id(self):\n",
    "        print(f'Mi id es {self.id}')"
   ]
  },
  {
   "cell_type": "code",
   "execution_count": 162,
   "metadata": {},
   "outputs": [
    {
     "name": "stdout",
     "output_type": "stream",
     "text": [
      "Mi id es 1\n"
     ]
    }
   ],
   "source": [
    "# Test Employee\n",
    "e1 = Employee()\n",
    "e1.say_id()"
   ]
  },
  {
   "cell_type": "markdown",
   "metadata": {},
   "source": [
    "\n",
    "# Clase User:\n",
    "- **str Role**: Atrubuto de instancia. Funcion de la instancia de User. Ex.:\n",
    "    - Administrador\n",
    "    - Manager\n",
    "    - Usuario\n",
    "- **str username**: Atributo de instancia. Nombre del usuario.\n",
    "- **void say_user_info()**: Imprime 'Mi nombre es {self.username} y soy {self.role}'\n"
   ]
  },
  {
   "cell_type": "code",
   "execution_count": 163,
   "metadata": {},
   "outputs": [],
   "source": [
    "class User:\n",
    "    def __init__(self, username, role=\"Customer\"):\n",
    "        self.username = username\n",
    "        self.role = role\n",
    "    \n",
    "    def say_user_info(self):\n",
    "        print(f'Soy {self.username} y soy {self.role}')"
   ]
  },
  {
   "cell_type": "code",
   "execution_count": 164,
   "metadata": {},
   "outputs": [
    {
     "name": "stdout",
     "output_type": "stream",
     "text": [
      "Soy Jose y soy Customer\n"
     ]
    }
   ],
   "source": [
    "# Test User\n",
    "e2 = User(\"Jose\")\n",
    "e2.say_user_info()"
   ]
  },
  {
   "cell_type": "markdown",
   "metadata": {},
   "source": [
    "\n",
    "# Clase Admin:\n",
    "- **void say_id()**: Imprime:\n",
    "    - 'Mi ID es: {self.id}'\n",
    "    - \"Soy un administrador \\\\(0-0)/\".\n",
    "\n"
   ]
  },
  {
   "cell_type": "code",
   "execution_count": 165,
   "metadata": {},
   "outputs": [],
   "source": [
    "class Admin(User, Employee):\n",
    "     \n",
    "    def __init__(self, username, role = \"Administrador\"):\n",
    "        super().__init__(username, \"Administrador\")\n",
    "    \n",
    "    def say_id(self):  \n",
    "        super().say_id()\n",
    "        print(\"Soy un administrador \\\\(0-0)/\")\n",
    "        "
   ]
  },
  {
   "cell_type": "code",
   "execution_count": 166,
   "metadata": {},
   "outputs": [
    {
     "name": "stdout",
     "output_type": "stream",
     "text": [
      "Mi id es 2\n",
      "Soy un administrador \\(0-0)/\n",
      "Soy Jose y soy Administrador\n"
     ]
    }
   ],
   "source": [
    "# Test Admin\n",
    "e3 = Admin(\"Jose\")\n",
    "e3.say_id()\n",
    "e3.say_user_info()"
   ]
  },
  {
   "cell_type": "markdown",
   "metadata": {},
   "source": [
    "\n",
    "# Clase Manager:\n",
    "- **void say_id()**: Imprime:\n",
    "    - 'Mi ID es: {self.id}'\n",
    "    - \"Soy un manager \\\\(0-0)/\".\n",
    "    - \"Estoy a cargo\".\n"
   ]
  },
  {
   "cell_type": "code",
   "execution_count": 169,
   "metadata": {},
   "outputs": [],
   "source": [
    "class Manager(Admin):\n",
    "    def __init__(self, username, role):\n",
    "        Admin.__init__(self, username, role=\"Manager\")\n",
    "    \n",
    "    \n",
    "    def say_id(self):\n",
    "        super().say_id()\n",
    "        print(\"Soy un manager \\\\(0-0)/\")\n",
    "        print(\"Estoy a cargo\")"
   ]
  },
  {
   "cell_type": "code",
   "execution_count": 171,
   "metadata": {},
   "outputs": [
    {
     "name": "stdout",
     "output_type": "stream",
     "text": [
      "Mi id es 2\n",
      "Soy un administrador \\(0-0)/\n",
      "Soy un manager \\(0-0)/\n",
      "Estoy a cargo\n",
      "Soy Asael y soy Administrador\n"
     ]
    }
   ],
   "source": [
    "# Test Manager\n",
    "e4 = Manager(\"Asael\", \"Manager\")\n",
    "e4.say_id()\n",
    "e4.say_user_info()"
   ]
  }
 ],
 "metadata": {
  "kernelspec": {
   "display_name": "Python 3",
   "language": "python",
   "name": "python3"
  },
  "language_info": {
   "codemirror_mode": {
    "name": "ipython",
    "version": 3
   },
   "file_extension": ".py",
   "mimetype": "text/x-python",
   "name": "python",
   "nbconvert_exporter": "python",
   "pygments_lexer": "ipython3",
   "version": "3.12.5"
  }
 },
 "nbformat": 4,
 "nbformat_minor": 2
}
