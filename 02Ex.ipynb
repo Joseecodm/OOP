{
 "cells": [
  {
   "cell_type": "markdown",
   "metadata": {},
   "source": [
    "# Ejercicio 2 de OOP"
   ]
  },
  {
   "cell_type": "markdown",
   "metadata": {},
   "source": [
    "<img src= \"Diagramas_clases/02_herencia.png\" alt=\"Ex 1\" width=\"500\">"
   ]
  },
  {
   "cell_type": "code",
   "execution_count": 1,
   "metadata": {},
   "outputs": [],
   "source": [
    "class Animal:\n",
    "\n",
    "    def __init__(self, name):\n",
    "        self.name = name\n",
    "    def eat(self):\n",
    "        print(f'Yummy yummy!, estoy comiendo')\n",
    "\n",
    "    def say_name(self):\n",
    "        print(f'Mi nombre es {self.name}')\n",
    "\n",
    "class Cat(Animal):\n",
    "    def meow(self):\n",
    "        print('Soy un gato y hago miau!')\n",
    "\n",
    "class Dog(Animal):\n",
    "    def bark(self):\n",
    "        print('Soy un perro y hago woof!')"
   ]
  },
  {
   "cell_type": "code",
   "execution_count": 2,
   "metadata": {},
   "outputs": [
    {
     "name": "stdout",
     "output_type": "stream",
     "text": [
      "Soy un perro y hago woof!\n",
      "Yummy yummy!, estoy comiendo\n",
      "Mi nombre es Solovino\n",
      "Soy un gato y hago miau!\n",
      "Yummy yummy!, estoy comiendo\n",
      "Mi nombre es Felix\n"
     ]
    }
   ],
   "source": [
    "Solo_vino = Dog(\"Solovino\")\n",
    "Solo_vino.bark()\n",
    "Solo_vino.eat()\n",
    "Solo_vino.say_name()\n",
    "\n",
    "Felix = Cat(\"Felix\")\n",
    "Felix.meow()\n",
    "Felix.eat()\n",
    "Felix.say_name()"
   ]
  }
 ],
 "metadata": {
  "kernelspec": {
   "display_name": "Python 3",
   "language": "python",
   "name": "python3"
  },
  "language_info": {
   "codemirror_mode": {
    "name": "ipython",
    "version": 3
   },
   "file_extension": ".py",
   "mimetype": "text/x-python",
   "name": "python",
   "nbconvert_exporter": "python",
   "pygments_lexer": "ipython3",
   "version": "3.12.5"
  }
 },
 "nbformat": 4,
 "nbformat_minor": 2
}
