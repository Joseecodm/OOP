{
 "cells": [
  {
   "cell_type": "markdown",
   "metadata": {},
   "source": [
    "# Ejercicio 6 de OOP"
   ]
  },
  {
   "cell_type": "markdown",
   "metadata": {},
   "source": [
    "<img src=\"Diagramas_clases/06_x.jpg\" alt=\"06\" width=\"300\">"
   ]
  },
  {
   "cell_type": "markdown",
   "metadata": {},
   "source": [
    "# Clase Empleado:\n",
    "- **int id** Atributo de instancia. Identifica de manera unica a acda instancia de Employee\n",
    "- **int new_id** Atributo de clase. Identificador unico.\n",
    "- **void say_id** Imprime el 'id' de la instancia\n",
    "\n",
    "# Clase User:\n",
    "- **str Role** Atrubuto de instancia. Funcion de la instancia de User. Ex.:\n",
    "    - Administrador\n",
    "    - Manager\n",
    "    - Usuario\n",
    "- **str username** Atributo de instancia. Nombre del usuario.\n",
    "- **void say_user_info()** Imprime 'Mi nombre es {self.username} y soy {self.role}'"
   ]
  },
  {
   "cell_type": "code",
   "execution_count": 4,
   "metadata": {},
   "outputs": [],
   "source": [
    "class Employee:\n",
    "    id = 1\n",
    "\n",
    "    def __init__(self, name):\n",
    "        self.id =  Employee.id\n",
    "        self.name = name\n",
    "        Employee.id += 1\n",
    "               \n",
    "    def say_id(self):\n",
    "        print(f'My name is {self.name} y mi id es {self.id}')"
   ]
  }
 ],
 "metadata": {
  "kernelspec": {
   "display_name": "Python 3",
   "language": "python",
   "name": "python3"
  },
  "language_info": {
   "codemirror_mode": {
    "name": "ipython",
    "version": 3
   },
   "file_extension": ".py",
   "mimetype": "text/x-python",
   "name": "python",
   "nbconvert_exporter": "python",
   "pygments_lexer": "ipython3",
   "version": "3.12.5"
  }
 },
 "nbformat": 4,
 "nbformat_minor": 2
}
