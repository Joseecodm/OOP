{
 "cells": [
  {
   "cell_type": "markdown",
   "metadata": {},
   "source": [
    "# Clase Time:\n",
    "- Atributos:\n",
    "\n",
    "    - hour : int\n",
    "    - minute : int\n",
    "    - second : int\n",
    "\n",
    "- Metodos:\n",
    "\n",
    "    - Total_seconds{\n",
    "\n",
    "        Devuelve el total de segundos que hay en esas horas, minutos y segundos.\n",
    "        \n",
    "    }\n",
    "\n",
    "    - Modificar el __str__ para que imprima en el siguiente formato = 00:00:00\n"
   ]
  },
  {
   "cell_type": "code",
   "execution_count": 2,
   "metadata": {},
   "outputs": [],
   "source": [
    "class Time:\n",
    "    def __init__(self, hour: int, minute: int, second: int):\n",
    "        self.hour = hour\n",
    "        self.minute = minute\n",
    "        self.second = second\n",
    "\n",
    "    def total_seconds(self):\n",
    "        seconds = self.hour * 3600 + self.minute * 60 + self.second\n",
    "        return f'El total de segundos que hay en {self.hour:02}:{self.minute:02}:{self.second:02} es de: {seconds}'\n",
    "\n",
    "    def __str__(self):\n",
    "        return f\"{self.hour:02}:{self.minute:02}:{self.second:02}\""
   ]
  },
  {
   "cell_type": "code",
   "execution_count": 6,
   "metadata": {},
   "outputs": [
    {
     "name": "stdout",
     "output_type": "stream",
     "text": [
      "11:12:13\n",
      "El total de segundos que hay en 11:12:13 es de: 40333\n"
     ]
    }
   ],
   "source": [
    "# test 1\n",
    "t1 = Time(11, 12, 13)\n",
    "print(t1)\n",
    "print(t1.total_seconds())"
   ]
  }
 ],
 "metadata": {
  "kernelspec": {
   "display_name": "Python 3",
   "language": "python",
   "name": "python3"
  },
  "language_info": {
   "codemirror_mode": {
    "name": "ipython",
    "version": 3
   },
   "file_extension": ".py",
   "mimetype": "text/x-python",
   "name": "python",
   "nbconvert_exporter": "python",
   "pygments_lexer": "ipython3",
   "version": "3.12.5"
  }
 },
 "nbformat": 4,
 "nbformat_minor": 2
}
